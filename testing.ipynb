{
 "cells": [
  {
   "cell_type": "code",
   "execution_count": 1,
   "metadata": {},
   "outputs": [],
   "source": [
    "import torch\n",
    "import matplotlib.pyplot as plt\n",
    "import numpy as np\n",
    "from scipy.signal import firwin\n",
    "from shoebox.firwin_torch import firwin_torch\n",
    "from shoebox.firwin_scipy import firwin_scipy\n",
    "import pandas as pd\n"
   ]
  },
  {
   "cell_type": "code",
   "execution_count": 3,
   "metadata": {},
   "outputs": [],
   "source": [
    "#df = pd.read_csv('./results/real_room_ir_0_None_K_values.txt', )\n",
    "#df = pd.read_csv('./results/ism_280_multi_low_0_None_K_values.txt', )\n",
    "df = pd.read_csv('./imgs/ism_L1Loss_0_280/ism_280_multi_low_0_280_L1Loss_kValues.txt', )"
   ]
  },
  {
   "cell_type": "code",
   "execution_count": 14,
   "metadata": {},
   "outputs": [
    {
     "data": {
      "text/plain": [
       "(60, 7)"
      ]
     },
     "execution_count": 14,
     "metadata": {},
     "output_type": "execute_result"
    }
   ],
   "source": [
    "df.shape"
   ]
  },
  {
   "cell_type": "code",
   "execution_count": 2,
   "metadata": {},
   "outputs": [
    {
     "data": {
      "text/plain": [
       "0.36"
      ]
     },
     "execution_count": 2,
     "metadata": {},
     "output_type": "execute_result"
    }
   ],
   "source": [
    "0.6**2"
   ]
  },
  {
   "cell_type": "code",
   "execution_count": 31,
   "metadata": {},
   "outputs": [],
   "source": [
    "df.drop(df[df.Min_Loss > 1000].index, inplace=True)"
   ]
  },
  {
   "cell_type": "code",
   "execution_count": 33,
   "metadata": {},
   "outputs": [
    {
     "name": "stdout",
     "output_type": "stream",
     "text": [
      "Max:59.631947 and Min:9.696009\n"
     ]
    },
    {
     "data": {
      "image/png": "[encoded data removed]",
      "text/plain": [
       "<Figure size 600x400 with 1 Axes>"
      ]
     },
     "metadata": {},
     "output_type": "display_data"
    }
   ],
   "source": [
    "print(f\"Max:{df['Min_Loss'].max()} and Min:{df['Min_Loss'].min()}\")\n",
    "plt.figure(figsize=(6,4))\n",
    "plt.hist(df['Min_Loss'],  rwidth=0.5)\n",
    "#plt.xticks(ticks=np.arange(70),  )\n",
    "plt.title(f\"Histogram of Minimum loss values, Min:{np.round(np.float64(df['Min_Loss'].min()),2)},Max:{np.round(np.float64(df['Min_Loss'].max()),2)}\")\n",
    "plt.tight_layout()\n",
    "plt.show()"
   ]
  },
  {
   "cell_type": "code",
   "execution_count": 28,
   "metadata": {},
   "outputs": [],
   "source": [
    "#df.rename(columns={'Rir No':'Rir_No'}, inplace=True)\n",
    "#df.to_csv('ism_14_0_14_K_values.txt', index=False)"
   ]
  },
  {
   "cell_type": "code",
   "execution_count": 1,
   "metadata": {},
   "outputs": [
    {
     "data": {
      "text/plain": [
       "0.9"
      ]
     },
     "execution_count": 1,
     "metadata": {},
     "output_type": "execute_result"
    }
   ],
   "source": [
    "9e-1"
   ]
  },
  {
   "cell_type": "code",
   "execution_count": 4,
   "metadata": {},
   "outputs": [
    {
     "data": {
      "text/html": [
       "<div>\n",
       "<style scoped>\n",
       "    .dataframe tbody tr th:only-of-type {\n",
       "        vertical-align: middle;\n",
       "    }\n",
       "\n",
       "    .dataframe tbody tr th {\n",
       "        vertical-align: top;\n",
       "    }\n",
       "\n",
       "    .dataframe thead th {\n",
       "        text-align: right;\n",
       "    }\n",
       "</style>\n",
       "<table border=\"1\" class=\"dataframe\">\n",
       "  <thead>\n",
       "    <tr style=\"text-align: right;\">\n",
       "      <th></th>\n",
       "      <th>Kx</th>\n",
       "      <th>Ky</th>\n",
       "      <th>Kz</th>\n",
       "      <th>Noise</th>\n",
       "      <th>Convergence</th>\n",
       "      <th>Min_Loss</th>\n",
       "      <th>Rir_No</th>\n",
       "    </tr>\n",
       "  </thead>\n",
       "  <tbody>\n",
       "    <tr>\n",
       "      <th>0</th>\n",
       "      <td>-0.162264</td>\n",
       "      <td>-0.122281</td>\n",
       "      <td>-0.048483</td>\n",
       "      <td>-4.029811e+02</td>\n",
       "      <td>1.0</td>\n",
       "      <td>5.287024</td>\n",
       "      <td>1.0</td>\n",
       "    </tr>\n",
       "    <tr>\n",
       "      <th>1</th>\n",
       "      <td>-0.088613</td>\n",
       "      <td>-0.070946</td>\n",
       "      <td>-0.055972</td>\n",
       "      <td>-5.982221e+02</td>\n",
       "      <td>1.0</td>\n",
       "      <td>3.119328</td>\n",
       "      <td>1.0</td>\n",
       "    </tr>\n",
       "    <tr>\n",
       "      <th>2</th>\n",
       "      <td>-0.087186</td>\n",
       "      <td>-0.093525</td>\n",
       "      <td>-0.097096</td>\n",
       "      <td>-5.631847e+06</td>\n",
       "      <td>1.0</td>\n",
       "      <td>4.996693</td>\n",
       "      <td>1.0</td>\n",
       "    </tr>\n",
       "    <tr>\n",
       "      <th>3</th>\n",
       "      <td>-0.062731</td>\n",
       "      <td>-0.062422</td>\n",
       "      <td>-0.063042</td>\n",
       "      <td>-8.120909e+02</td>\n",
       "      <td>1.0</td>\n",
       "      <td>7.401798</td>\n",
       "      <td>1.0</td>\n",
       "    </tr>\n",
       "    <tr>\n",
       "      <th>4</th>\n",
       "      <td>-0.132236</td>\n",
       "      <td>-0.056015</td>\n",
       "      <td>-0.053646</td>\n",
       "      <td>-9.568495e+02</td>\n",
       "      <td>0.0</td>\n",
       "      <td>9.582401</td>\n",
       "      <td>1.0</td>\n",
       "    </tr>\n",
       "    <tr>\n",
       "      <th>5</th>\n",
       "      <td>-0.053898</td>\n",
       "      <td>-0.055368</td>\n",
       "      <td>-0.051983</td>\n",
       "      <td>-1.693762e+02</td>\n",
       "      <td>0.0</td>\n",
       "      <td>10.923508</td>\n",
       "      <td>1.0</td>\n",
       "    </tr>\n",
       "    <tr>\n",
       "      <th>6</th>\n",
       "      <td>-0.171613</td>\n",
       "      <td>-0.111347</td>\n",
       "      <td>-0.080517</td>\n",
       "      <td>-7.089064e+02</td>\n",
       "      <td>1.0</td>\n",
       "      <td>1.695617</td>\n",
       "      <td>2.0</td>\n",
       "    </tr>\n",
       "    <tr>\n",
       "      <th>7</th>\n",
       "      <td>-0.188457</td>\n",
       "      <td>-0.103889</td>\n",
       "      <td>-0.085995</td>\n",
       "      <td>-2.635627e+02</td>\n",
       "      <td>1.0</td>\n",
       "      <td>2.156970</td>\n",
       "      <td>2.0</td>\n",
       "    </tr>\n",
       "    <tr>\n",
       "      <th>8</th>\n",
       "      <td>-0.185773</td>\n",
       "      <td>-0.152476</td>\n",
       "      <td>-0.081095</td>\n",
       "      <td>-5.374490e+02</td>\n",
       "      <td>1.0</td>\n",
       "      <td>4.687319</td>\n",
       "      <td>2.0</td>\n",
       "    </tr>\n",
       "    <tr>\n",
       "      <th>9</th>\n",
       "      <td>-0.148022</td>\n",
       "      <td>-0.086541</td>\n",
       "      <td>-0.075078</td>\n",
       "      <td>-5.540399e+02</td>\n",
       "      <td>1.0</td>\n",
       "      <td>5.083507</td>\n",
       "      <td>2.0</td>\n",
       "    </tr>\n",
       "    <tr>\n",
       "      <th>10</th>\n",
       "      <td>-0.143142</td>\n",
       "      <td>-0.072911</td>\n",
       "      <td>-0.073340</td>\n",
       "      <td>-1.029607e+03</td>\n",
       "      <td>1.0</td>\n",
       "      <td>4.841756</td>\n",
       "      <td>2.0</td>\n",
       "    </tr>\n",
       "    <tr>\n",
       "      <th>11</th>\n",
       "      <td>-0.101267</td>\n",
       "      <td>-0.067791</td>\n",
       "      <td>-0.067620</td>\n",
       "      <td>-6.975890e+04</td>\n",
       "      <td>1.0</td>\n",
       "      <td>7.673528</td>\n",
       "      <td>2.0</td>\n",
       "    </tr>\n",
       "    <tr>\n",
       "      <th>12</th>\n",
       "      <td>-0.153319</td>\n",
       "      <td>-0.139184</td>\n",
       "      <td>-0.060487</td>\n",
       "      <td>-3.102301e+02</td>\n",
       "      <td>1.0</td>\n",
       "      <td>4.672363</td>\n",
       "      <td>3.0</td>\n",
       "    </tr>\n",
       "    <tr>\n",
       "      <th>13</th>\n",
       "      <td>-0.197906</td>\n",
       "      <td>-0.133781</td>\n",
       "      <td>-0.066377</td>\n",
       "      <td>-6.279815e+02</td>\n",
       "      <td>1.0</td>\n",
       "      <td>4.609777</td>\n",
       "      <td>3.0</td>\n",
       "    </tr>\n",
       "    <tr>\n",
       "      <th>14</th>\n",
       "      <td>-0.171214</td>\n",
       "      <td>-0.066463</td>\n",
       "      <td>-0.066388</td>\n",
       "      <td>-4.694780e+04</td>\n",
       "      <td>1.0</td>\n",
       "      <td>5.632553</td>\n",
       "      <td>3.0</td>\n",
       "    </tr>\n",
       "    <tr>\n",
       "      <th>15</th>\n",
       "      <td>-0.138501</td>\n",
       "      <td>-0.075011</td>\n",
       "      <td>-0.066311</td>\n",
       "      <td>-4.300357e+17</td>\n",
       "      <td>1.0</td>\n",
       "      <td>7.939552</td>\n",
       "      <td>3.0</td>\n",
       "    </tr>\n",
       "    <tr>\n",
       "      <th>16</th>\n",
       "      <td>-0.075926</td>\n",
       "      <td>-0.070531</td>\n",
       "      <td>-0.059161</td>\n",
       "      <td>-2.878326e+20</td>\n",
       "      <td>0.0</td>\n",
       "      <td>9.424779</td>\n",
       "      <td>3.0</td>\n",
       "    </tr>\n",
       "    <tr>\n",
       "      <th>17</th>\n",
       "      <td>-0.128660</td>\n",
       "      <td>-0.059538</td>\n",
       "      <td>-0.056263</td>\n",
       "      <td>-6.566845e+02</td>\n",
       "      <td>0.0</td>\n",
       "      <td>12.750054</td>\n",
       "      <td>3.0</td>\n",
       "    </tr>\n",
       "  </tbody>\n",
       "</table>\n",
       "</div>"
      ],
      "text/plain": [
       "          Kx        Ky        Kz         Noise  Convergence   Min_Loss  Rir_No\n",
       "0  -0.162264 -0.122281 -0.048483 -4.029811e+02          1.0   5.287024     1.0\n",
       "1  -0.088613 -0.070946 -0.055972 -5.982221e+02          1.0   3.119328     1.0\n",
       "2  -0.087186 -0.093525 -0.097096 -5.631847e+06          1.0   4.996693     1.0\n",
       "3  -0.062731 -0.062422 -0.063042 -8.120909e+02          1.0   7.401798     1.0\n",
       "4  -0.132236 -0.056015 -0.053646 -9.568495e+02          0.0   9.582401     1.0\n",
       "5  -0.053898 -0.055368 -0.051983 -1.693762e+02          0.0  10.923508     1.0\n",
       "6  -0.171613 -0.111347 -0.080517 -7.089064e+02          1.0   1.695617     2.0\n",
       "7  -0.188457 -0.103889 -0.085995 -2.635627e+02          1.0   2.156970     2.0\n",
       "8  -0.185773 -0.152476 -0.081095 -5.374490e+02          1.0   4.687319     2.0\n",
       "9  -0.148022 -0.086541 -0.075078 -5.540399e+02          1.0   5.083507     2.0\n",
       "10 -0.143142 -0.072911 -0.073340 -1.029607e+03          1.0   4.841756     2.0\n",
       "11 -0.101267 -0.067791 -0.067620 -6.975890e+04          1.0   7.673528     2.0\n",
       "12 -0.153319 -0.139184 -0.060487 -3.102301e+02          1.0   4.672363     3.0\n",
       "13 -0.197906 -0.133781 -0.066377 -6.279815e+02          1.0   4.609777     3.0\n",
       "14 -0.171214 -0.066463 -0.066388 -4.694780e+04          1.0   5.632553     3.0\n",
       "15 -0.138501 -0.075011 -0.066311 -4.300357e+17          1.0   7.939552     3.0\n",
       "16 -0.075926 -0.070531 -0.059161 -2.878326e+20          0.0   9.424779     3.0\n",
       "17 -0.128660 -0.059538 -0.056263 -6.566845e+02          0.0  12.750054     3.0"
      ]
     },
     "execution_count": 4,
     "metadata": {},
     "output_type": "execute_result"
    }
   ],
   "source": [
    "df.loc[df['Rir_No'] < 4]"
   ]
  },
  {
   "cell_type": "markdown",
   "metadata": {},
   "source": [
    "### ISM dataset handling"
   ]
  },
  {
   "cell_type": "code",
   "execution_count": 2,
   "metadata": {},
   "outputs": [],
   "source": [
    "def calculate_damping_coeff(betas, lengths):\n",
    "    ''' \n",
    "    Calculate the damping density coefficients from Betas and length parameters\n",
    "    betas: a 6x1 array of all reflection coefficients\n",
    "    lengths: 3x1 array of all wall measurements\n",
    "    '''\n",
    "    Kx = np.log(np.prod(betas[0:2])) / lengths[0]\n",
    "    Ky = np.log(np.prod(betas[2:4])) / lengths[1]\n",
    "    Kz = np.log(np.prod(betas[4:6])) / lengths[2]\n",
    "    return Kx, Ky, Kz"
   ]
  },
  {
   "cell_type": "code",
   "execution_count": 3,
   "metadata": {},
   "outputs": [
    {
     "name": "stdout",
     "output_type": "stream",
     "text": [
      "(280, 96009)\n"
     ]
    }
   ],
   "source": [
    "ism_g = np.load('./rirData/ism_280_multi_low.npy', allow_pickle=False)\n",
    "print(ism_g.shape)"
   ]
  },
  {
   "cell_type": "code",
   "execution_count": 4,
   "metadata": {},
   "outputs": [
    {
     "name": "stdout",
     "output_type": "stream",
     "text": [
      "(1680, 3)\n"
     ]
    }
   ],
   "source": [
    "k_arr = np.zeros(3)\n",
    "for it in ism_g:\n",
    "    temp = np.zeros(3)\n",
    "    lengths, betas = it[:3], it[3:9]\n",
    "    kValues = np.sort(calculate_damping_coeff(betas, lengths))\n",
    "    for ix in range(6):\n",
    "        temp = np.vstack((temp, kValues))\n",
    "    temp = temp[1:]\n",
    "    k_arr = np.vstack((k_arr, temp))\n",
    "k_arr = k_arr[1:]\n",
    "print(k_arr.shape)"
   ]
  },
  {
   "cell_type": "code",
   "execution_count": 113,
   "metadata": {},
   "outputs": [
    {
     "data": {
      "text/plain": [
       "(1680, 11)"
      ]
     },
     "execution_count": 113,
     "metadata": {},
     "output_type": "execute_result"
    }
   ],
   "source": [
    "df = pd.read_csv('./imgs/ism_L1Loss_0_280/ism_280_multi_low_0_280_L1Loss_kValues_new.txt', )\n",
    "df.shape"
   ]
  },
  {
   "cell_type": "code",
   "execution_count": 114,
   "metadata": {},
   "outputs": [
    {
     "data": {
      "text/plain": [
       "Kx              -0.161472\n",
       "Ky              -0.036236\n",
       "Kz              -0.025139\n",
       "Noise         -438.913450\n",
       "Convergence      0.000000\n",
       "Min_Loss        21.583235\n",
       "Rir_No         174.000000\n",
       "Kx_g            -0.199548\n",
       "Ky_g            -0.195473\n",
       "Kz_g            -0.079143\n",
       "mean_diff        0.083772\n",
       "Name: 1043, dtype: float64"
      ]
     },
     "execution_count": 114,
     "metadata": {},
     "output_type": "execute_result"
    }
   ],
   "source": [
    "df.loc[df['Min_Loss'].idxmax()]"
   ]
  },
  {
   "cell_type": "code",
   "execution_count": 121,
   "metadata": {},
   "outputs": [
    {
     "data": {
      "text/plain": [
       "(450     3.658733\n",
       " 451     5.364836\n",
       " 452     8.005838\n",
       " 453     9.325951\n",
       " 454     9.214705\n",
       " 455    11.611276\n",
       " Name: Min_Loss, dtype: float64,\n",
       " 47.1813391)"
      ]
     },
     "execution_count": 121,
     "metadata": {},
     "output_type": "execute_result"
    }
   ],
   "source": [
    "df.loc[df['Rir_No'] == 76]['Min_Loss'], np.sum(df.loc[df['Rir_No'] == 76]['Min_Loss'])"
   ]
  },
  {
   "cell_type": "code",
   "execution_count": 116,
   "metadata": {},
   "outputs": [],
   "source": [
    "ll = []\n",
    "for i in range(280):\n",
    "    ll.append(np.sum(df.loc[df['Rir_No'] == (i+1)]['Min_Loss']))"
   ]
  },
  {
   "cell_type": "code",
   "execution_count": 117,
   "metadata": {},
   "outputs": [
    {
     "data": {
      "text/plain": [
       "280"
      ]
     },
     "execution_count": 117,
     "metadata": {},
     "output_type": "execute_result"
    }
   ],
   "source": [
    "len(ll)"
   ]
  },
  {
   "cell_type": "code",
   "execution_count": 118,
   "metadata": {},
   "outputs": [
    {
     "data": {
      "text/plain": [
       "(267, 54.1971066)"
      ]
     },
     "execution_count": 118,
     "metadata": {},
     "output_type": "execute_result"
    }
   ],
   "source": [
    "np.argmax(ll), np.max(ll)"
   ]
  },
  {
   "cell_type": "code",
   "execution_count": 22,
   "metadata": {},
   "outputs": [],
   "source": [
    "for idx, x in enumerate(['Kx_g', 'Ky_g', 'Kz_g']):\n",
    "    df[x] = k_arr[:, idx]"
   ]
  },
  {
   "cell_type": "code",
   "execution_count": 23,
   "metadata": {},
   "outputs": [
    {
     "data": {
      "text/html": [
       "<div>\n",
       "<style scoped>\n",
       "    .dataframe tbody tr th:only-of-type {\n",
       "        vertical-align: middle;\n",
       "    }\n",
       "\n",
       "    .dataframe tbody tr th {\n",
       "        vertical-align: top;\n",
       "    }\n",
       "\n",
       "    .dataframe thead th {\n",
       "        text-align: right;\n",
       "    }\n",
       "</style>\n",
       "<table border=\"1\" class=\"dataframe\">\n",
       "  <thead>\n",
       "    <tr style=\"text-align: right;\">\n",
       "      <th></th>\n",
       "      <th>Kx</th>\n",
       "      <th>Ky</th>\n",
       "      <th>Kz</th>\n",
       "      <th>Noise</th>\n",
       "      <th>Convergence</th>\n",
       "      <th>Min_Loss</th>\n",
       "      <th>Rir_No</th>\n",
       "      <th>Kx_g</th>\n",
       "      <th>Ky_g</th>\n",
       "      <th>Kz_g</th>\n",
       "    </tr>\n",
       "  </thead>\n",
       "  <tbody>\n",
       "    <tr>\n",
       "      <th>0</th>\n",
       "      <td>-0.121128</td>\n",
       "      <td>-0.054152</td>\n",
       "      <td>-0.053079</td>\n",
       "      <td>-157.58206</td>\n",
       "      <td>1.0</td>\n",
       "      <td>2.536233</td>\n",
       "      <td>1.0</td>\n",
       "      <td>-0.239987</td>\n",
       "      <td>-0.168105</td>\n",
       "      <td>-0.031253</td>\n",
       "    </tr>\n",
       "    <tr>\n",
       "      <th>1</th>\n",
       "      <td>-0.169477</td>\n",
       "      <td>-0.125793</td>\n",
       "      <td>-0.051126</td>\n",
       "      <td>-839.28180</td>\n",
       "      <td>1.0</td>\n",
       "      <td>3.344847</td>\n",
       "      <td>1.0</td>\n",
       "      <td>-0.239987</td>\n",
       "      <td>-0.168105</td>\n",
       "      <td>-0.031253</td>\n",
       "    </tr>\n",
       "    <tr>\n",
       "      <th>2</th>\n",
       "      <td>-0.165219</td>\n",
       "      <td>-0.144802</td>\n",
       "      <td>-0.054378</td>\n",
       "      <td>-1014.95200</td>\n",
       "      <td>1.0</td>\n",
       "      <td>5.470519</td>\n",
       "      <td>1.0</td>\n",
       "      <td>-0.239987</td>\n",
       "      <td>-0.168105</td>\n",
       "      <td>-0.031253</td>\n",
       "    </tr>\n",
       "    <tr>\n",
       "      <th>3</th>\n",
       "      <td>-0.073513</td>\n",
       "      <td>-0.057695</td>\n",
       "      <td>-0.058072</td>\n",
       "      <td>-48124.09000</td>\n",
       "      <td>1.0</td>\n",
       "      <td>6.739348</td>\n",
       "      <td>1.0</td>\n",
       "      <td>-0.239987</td>\n",
       "      <td>-0.168105</td>\n",
       "      <td>-0.031253</td>\n",
       "    </tr>\n",
       "    <tr>\n",
       "      <th>4</th>\n",
       "      <td>-0.081653</td>\n",
       "      <td>-0.076254</td>\n",
       "      <td>-0.051797</td>\n",
       "      <td>-134.56420</td>\n",
       "      <td>1.0</td>\n",
       "      <td>8.664200</td>\n",
       "      <td>1.0</td>\n",
       "      <td>-0.239987</td>\n",
       "      <td>-0.168105</td>\n",
       "      <td>-0.031253</td>\n",
       "    </tr>\n",
       "  </tbody>\n",
       "</table>\n",
       "</div>"
      ],
      "text/plain": [
       "         Kx        Ky        Kz        Noise  Convergence  Min_Loss  Rir_No  \\\n",
       "0 -0.121128 -0.054152 -0.053079   -157.58206          1.0  2.536233     1.0   \n",
       "1 -0.169477 -0.125793 -0.051126   -839.28180          1.0  3.344847     1.0   \n",
       "2 -0.165219 -0.144802 -0.054378  -1014.95200          1.0  5.470519     1.0   \n",
       "3 -0.073513 -0.057695 -0.058072 -48124.09000          1.0  6.739348     1.0   \n",
       "4 -0.081653 -0.076254 -0.051797   -134.56420          1.0  8.664200     1.0   \n",
       "\n",
       "       Kx_g      Ky_g      Kz_g  \n",
       "0 -0.239987 -0.168105 -0.031253  \n",
       "1 -0.239987 -0.168105 -0.031253  \n",
       "2 -0.239987 -0.168105 -0.031253  \n",
       "3 -0.239987 -0.168105 -0.031253  \n",
       "4 -0.239987 -0.168105 -0.031253  "
      ]
     },
     "execution_count": 23,
     "metadata": {},
     "output_type": "execute_result"
    }
   ],
   "source": [
    "df.head()"
   ]
  },
  {
   "cell_type": "code",
   "execution_count": 24,
   "metadata": {},
   "outputs": [],
   "source": [
    "df['mean_diff'] = (np.abs(df['Kx'] - df['Kx_g']) + np.abs(df['Ky'] - df['Ky_g']) + np.abs(df['Kz'] - df['Kz_g'])) /3"
   ]
  },
  {
   "cell_type": "code",
   "execution_count": 25,
   "metadata": {},
   "outputs": [
    {
     "data": {
      "text/html": [
       "<div>\n",
       "<style scoped>\n",
       "    .dataframe tbody tr th:only-of-type {\n",
       "        vertical-align: middle;\n",
       "    }\n",
       "\n",
       "    .dataframe tbody tr th {\n",
       "        vertical-align: top;\n",
       "    }\n",
       "\n",
       "    .dataframe thead th {\n",
       "        text-align: right;\n",
       "    }\n",
       "</style>\n",
       "<table border=\"1\" class=\"dataframe\">\n",
       "  <thead>\n",
       "    <tr style=\"text-align: right;\">\n",
       "      <th></th>\n",
       "      <th>Kx</th>\n",
       "      <th>Ky</th>\n",
       "      <th>Kz</th>\n",
       "      <th>Noise</th>\n",
       "      <th>Convergence</th>\n",
       "      <th>Min_Loss</th>\n",
       "      <th>Rir_No</th>\n",
       "      <th>Kx_g</th>\n",
       "      <th>Ky_g</th>\n",
       "      <th>Kz_g</th>\n",
       "      <th>mean_diff</th>\n",
       "    </tr>\n",
       "  </thead>\n",
       "  <tbody>\n",
       "    <tr>\n",
       "      <th>0</th>\n",
       "      <td>-0.121128</td>\n",
       "      <td>-0.054152</td>\n",
       "      <td>-0.053079</td>\n",
       "      <td>-157.58206</td>\n",
       "      <td>1.0</td>\n",
       "      <td>2.536233</td>\n",
       "      <td>1.0</td>\n",
       "      <td>-0.239987</td>\n",
       "      <td>-0.168105</td>\n",
       "      <td>-0.031253</td>\n",
       "      <td>0.084879</td>\n",
       "    </tr>\n",
       "    <tr>\n",
       "      <th>1</th>\n",
       "      <td>-0.169477</td>\n",
       "      <td>-0.125793</td>\n",
       "      <td>-0.051126</td>\n",
       "      <td>-839.28180</td>\n",
       "      <td>1.0</td>\n",
       "      <td>3.344847</td>\n",
       "      <td>1.0</td>\n",
       "      <td>-0.239987</td>\n",
       "      <td>-0.168105</td>\n",
       "      <td>-0.031253</td>\n",
       "      <td>0.044232</td>\n",
       "    </tr>\n",
       "    <tr>\n",
       "      <th>2</th>\n",
       "      <td>-0.165219</td>\n",
       "      <td>-0.144802</td>\n",
       "      <td>-0.054378</td>\n",
       "      <td>-1014.95200</td>\n",
       "      <td>1.0</td>\n",
       "      <td>5.470519</td>\n",
       "      <td>1.0</td>\n",
       "      <td>-0.239987</td>\n",
       "      <td>-0.168105</td>\n",
       "      <td>-0.031253</td>\n",
       "      <td>0.040399</td>\n",
       "    </tr>\n",
       "    <tr>\n",
       "      <th>3</th>\n",
       "      <td>-0.073513</td>\n",
       "      <td>-0.057695</td>\n",
       "      <td>-0.058072</td>\n",
       "      <td>-48124.09000</td>\n",
       "      <td>1.0</td>\n",
       "      <td>6.739348</td>\n",
       "      <td>1.0</td>\n",
       "      <td>-0.239987</td>\n",
       "      <td>-0.168105</td>\n",
       "      <td>-0.031253</td>\n",
       "      <td>0.101234</td>\n",
       "    </tr>\n",
       "    <tr>\n",
       "      <th>4</th>\n",
       "      <td>-0.081653</td>\n",
       "      <td>-0.076254</td>\n",
       "      <td>-0.051797</td>\n",
       "      <td>-134.56420</td>\n",
       "      <td>1.0</td>\n",
       "      <td>8.664200</td>\n",
       "      <td>1.0</td>\n",
       "      <td>-0.239987</td>\n",
       "      <td>-0.168105</td>\n",
       "      <td>-0.031253</td>\n",
       "      <td>0.090243</td>\n",
       "    </tr>\n",
       "  </tbody>\n",
       "</table>\n",
       "</div>"
      ],
      "text/plain": [
       "         Kx        Ky        Kz        Noise  Convergence  Min_Loss  Rir_No  \\\n",
       "0 -0.121128 -0.054152 -0.053079   -157.58206          1.0  2.536233     1.0   \n",
       "1 -0.169477 -0.125793 -0.051126   -839.28180          1.0  3.344847     1.0   \n",
       "2 -0.165219 -0.144802 -0.054378  -1014.95200          1.0  5.470519     1.0   \n",
       "3 -0.073513 -0.057695 -0.058072 -48124.09000          1.0  6.739348     1.0   \n",
       "4 -0.081653 -0.076254 -0.051797   -134.56420          1.0  8.664200     1.0   \n",
       "\n",
       "       Kx_g      Ky_g      Kz_g  mean_diff  \n",
       "0 -0.239987 -0.168105 -0.031253   0.084879  \n",
       "1 -0.239987 -0.168105 -0.031253   0.044232  \n",
       "2 -0.239987 -0.168105 -0.031253   0.040399  \n",
       "3 -0.239987 -0.168105 -0.031253   0.101234  \n",
       "4 -0.239987 -0.168105 -0.031253   0.090243  "
      ]
     },
     "execution_count": 25,
     "metadata": {},
     "output_type": "execute_result"
    }
   ],
   "source": [
    "df.head()"
   ]
  },
  {
   "cell_type": "code",
   "execution_count": 26,
   "metadata": {},
   "outputs": [
    {
     "data": {
      "image/png": "[encoded data removed]",
      "text/plain": [
       "<Figure size 600x400 with 1 Axes>"
      ]
     },
     "metadata": {},
     "output_type": "display_data"
    }
   ],
   "source": [
    "plt.figure(figsize=(6,4))\n",
    "plt.hist(df['mean_diff'],  rwidth=0.5)\n",
    "plt.suptitle(f\"Histogram of mean difference values between ground truth and estimate\")\n",
    "plt.title(f\"average of mean difference: {np.average(df['mean_diff'])}\")\n",
    "plt.tight_layout()\n",
    "#plt.show()\n",
    "plt.savefig('./imgs/ism_L1Loss_0_280_slice4k/Histogram_mean_diff_ism_280_multi_low_0_280_L1Loss.jpg')"
   ]
  },
  {
   "cell_type": "code",
   "execution_count": 27,
   "metadata": {},
   "outputs": [],
   "source": [
    "df.to_csv('./imgs/ism_L1Loss_0_280_slice4k/ism_280_multi_low_0_280_L1Loss_kValues_new.txt', index=False)"
   ]
  },
  {
   "cell_type": "code",
   "execution_count": 9,
   "metadata": {},
   "outputs": [
    {
     "data": {
      "text/plain": [
       "0.13185297669494328"
      ]
     },
     "execution_count": 9,
     "metadata": {},
     "output_type": "execute_result"
    }
   ],
   "source": [
    "np.average(df['mean_diff'])"
   ]
  },
  {
   "cell_type": "code",
   "execution_count": null,
   "metadata": {},
   "outputs": [],
   "source": []
  }
 ],
 "metadata": {
  "kernelspec": {
   "display_name": "Python 3 (ipykernel)",
   "language": "python",
   "name": "python3"
  },
  "language_info": {
   "codemirror_mode": {
    "name": "ipython",
    "version": 3
   },
   "file_extension": ".py",
   "mimetype": "text/x-python",
   "name": "python",
   "nbconvert_exporter": "python",
   "pygments_lexer": "ipython3",
   "version": "3.10.9"
  }
 },
 "nbformat": 4,
 "nbformat_minor": 4
}
