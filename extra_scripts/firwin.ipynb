{
 "cells": [
  {
   "cell_type": "code",
   "execution_count": 1,
   "metadata": {},
   "outputs": [],
   "source": [
    "from scipy import optimize, signal\n",
    "import torch \n",
    "import numpy as np\n",
    "from matplotlib import pyplot as plt"
   ]
  },
  {
   "cell_type": "code",
   "execution_count": 2,
   "metadata": {},
   "outputs": [],
   "source": [
    "import operator"
   ]
  },
  {
   "cell_type": "code",
   "execution_count": 9,
   "metadata": {},
   "outputs": [
    {
     "data": {
      "text/plain": [
       "tensor([1.])"
      ]
     },
     "execution_count": 9,
     "metadata": {},
     "output_type": "execute_result"
    }
   ],
   "source": [
    "torch.atleast_1d(torch.tensor(1.0))"
   ]
  },
  {
   "cell_type": "code",
   "execution_count": 6,
   "metadata": {},
   "outputs": [],
   "source": [
    "fs = 8000\n",
    "nyq = 0.5 * fs\n",
    "pass_zero = False\n",
    "cutt = 500\n",
    "cutoff = torch.atleast_1d(torch.tensor(cutt)) / float(nyq)\n",
    "pass_nyquist = torch.bitwise_xor(torch.bitwise_and(cutoff.size(0), torch.tensor(1)).bool(), pass_zero)"
   ]
  },
  {
   "cell_type": "code",
   "execution_count": 58,
   "metadata": {},
   "outputs": [
    {
     "data": {
      "text/plain": [
       "tensor([0.1250])"
      ]
     },
     "execution_count": 58,
     "metadata": {},
     "output_type": "execute_result"
    }
   ],
   "source": [
    "cutoff"
   ]
  },
  {
   "cell_type": "code",
   "execution_count": 69,
   "metadata": {},
   "outputs": [
    {
     "data": {
      "text/plain": [
       "tensor([])"
      ]
     },
     "execution_count": 69,
     "metadata": {},
     "output_type": "execute_result"
    }
   ],
   "source": [
    "torch.tensor([0.0] * pass_zero)"
   ]
  },
  {
   "cell_type": "code",
   "execution_count": 74,
   "metadata": {},
   "outputs": [
    {
     "data": {
      "text/plain": [
       "tensor([0.1250, 1.0000])"
      ]
     },
     "execution_count": 74,
     "metadata": {},
     "output_type": "execute_result"
    }
   ],
   "source": [
    "cutoff3 = torch.hstack((torch.tensor([0.0] * pass_zero), cutoff, torch.tensor([1.0] * pass_nyquist)))\n",
    "cutoff3"
   ]
  },
  {
   "cell_type": "code",
   "execution_count": 66,
   "metadata": {},
   "outputs": [
    {
     "data": {
      "text/plain": [
       "[]"
      ]
     },
     "execution_count": 66,
     "metadata": {},
     "output_type": "execute_result"
    }
   ],
   "source": [
    "[1.0] *False"
   ]
  },
  {
   "cell_type": "code",
   "execution_count": 59,
   "metadata": {},
   "outputs": [],
   "source": [
    "cutoff2 = np.atleast_1d(cutt) / float(nyq)\n",
    "pass_nyquist2 = (cutoff2.size & 1) ^ pass_zero"
   ]
  },
  {
   "cell_type": "code",
   "execution_count": 75,
   "metadata": {},
   "outputs": [
    {
     "data": {
      "text/plain": [
       "array([0.125, 1.   ])"
      ]
     },
     "execution_count": 75,
     "metadata": {},
     "output_type": "execute_result"
    }
   ],
   "source": [
    "np.hstack(([0.0] * pass_zero, cutoff2, [1.0] * pass_nyquist2))"
   ]
  },
  {
   "cell_type": "code",
   "execution_count": 34,
   "metadata": {},
   "outputs": [
    {
     "data": {
      "text/plain": [
       "tensor(True)"
      ]
     },
     "execution_count": 34,
     "metadata": {},
     "output_type": "execute_result"
    }
   ],
   "source": [
    "cutoff = torch.atleast_1d(torch.tensor(1.))\n",
    "torch.bitwise_xor(torch.logical_and(torch.tensor(cutoff.size(0)), torch.tensor(1)).bool(), False)"
   ]
  },
  {
   "cell_type": "code",
   "execution_count": 51,
   "metadata": {},
   "outputs": [],
   "source": [
    "l1 = torch.randint(4,8,(1,)).float()\n",
    "l2 = torch.randint(4,8,(1,)).float()\n",
    "l3 = torch.randint(4,8,(1,)).float()"
   ]
  },
  {
   "cell_type": "code",
   "execution_count": 53,
   "metadata": {},
   "outputs": [
    {
     "data": {
      "text/plain": [
       "tensor([6., 6., 7.])"
      ]
     },
     "execution_count": 53,
     "metadata": {},
     "output_type": "execute_result"
    }
   ],
   "source": [
    "torch.cat((l1,l2,l3))"
   ]
  },
  {
   "cell_type": "code",
   "execution_count": 25,
   "metadata": {},
   "outputs": [
    {
     "data": {
      "text/plain": [
       "tensor(1)"
      ]
     },
     "execution_count": 25,
     "metadata": {},
     "output_type": "execute_result"
    }
   ],
   "source": [
    "torch.fmod(torch.tensor(7), torch.tensor(2))"
   ]
  },
  {
   "cell_type": "code",
   "execution_count": 27,
   "metadata": {},
   "outputs": [
    {
     "data": {
      "text/plain": [
       "tensor(True)"
      ]
     },
     "execution_count": 27,
     "metadata": {},
     "output_type": "execute_result"
    }
   ],
   "source": [
    "torch.logical_and(torch.tensor(True), torch.tensor(1.0))"
   ]
  },
  {
   "cell_type": "code",
   "execution_count": 30,
   "metadata": {},
   "outputs": [
    {
     "data": {
      "text/plain": [
       "tensor(0.1250)"
      ]
     },
     "execution_count": 30,
     "metadata": {},
     "output_type": "execute_result"
    }
   ],
   "source": [
    "torch.tensor(1/8)"
   ]
  },
  {
   "cell_type": "code",
   "execution_count": 37,
   "metadata": {},
   "outputs": [
    {
     "ename": "RuntimeError",
     "evalue": "zero-dimensional tensor (at position 1) cannot be concatenated",
     "output_type": "error",
     "traceback": [
      "\u001b[0;31m---------------------------------------------------------------------------\u001b[0m",
      "\u001b[0;31mRuntimeError\u001b[0m                              Traceback (most recent call last)",
      "\u001b[0;32m/tmp/ipykernel_4220/3633225858.py\u001b[0m in \u001b[0;36m<cell line: 1>\u001b[0;34m()\u001b[0m\n\u001b[0;32m----> 1\u001b[0;31m \u001b[0mtorch\u001b[0m\u001b[0;34m.\u001b[0m\u001b[0mcat\u001b[0m\u001b[0;34m(\u001b[0m\u001b[0;34m(\u001b[0m\u001b[0mtorch\u001b[0m\u001b[0;34m.\u001b[0m\u001b[0mtensor\u001b[0m\u001b[0;34m(\u001b[0m\u001b[0;34m[\u001b[0m\u001b[0;36m1\u001b[0m\u001b[0;34m/\u001b[0m\u001b[0;36m8\u001b[0m\u001b[0;34m]\u001b[0m\u001b[0;34m)\u001b[0m\u001b[0;34m,\u001b[0m \u001b[0mtorch\u001b[0m\u001b[0;34m.\u001b[0m\u001b[0mtensor\u001b[0m\u001b[0;34m(\u001b[0m\u001b[0;36m0.175\u001b[0m\u001b[0;34m)\u001b[0m\u001b[0;34m)\u001b[0m\u001b[0;34m,\u001b[0m \u001b[0mdim\u001b[0m\u001b[0;34m=\u001b[0m\u001b[0;36m0\u001b[0m\u001b[0;34m)\u001b[0m\u001b[0;34m[\u001b[0m\u001b[0;36m1\u001b[0m\u001b[0;34m]\u001b[0m\u001b[0;34m.\u001b[0m\u001b[0mitem\u001b[0m\u001b[0;34m(\u001b[0m\u001b[0;34m)\u001b[0m\u001b[0;34m\u001b[0m\u001b[0;34m\u001b[0m\u001b[0m\n\u001b[0m",
      "\u001b[0;31mRuntimeError\u001b[0m: zero-dimensional tensor (at position 1) cannot be concatenated"
     ]
    }
   ],
   "source": [
    "torch.cat((torch.tensor([1/8]), torch.tensor(0.175)), dim=0)[1].item()"
   ]
  },
  {
   "cell_type": "code",
   "execution_count": 47,
   "metadata": {},
   "outputs": [
    {
     "data": {
      "text/plain": [
       "1"
      ]
     },
     "execution_count": 47,
     "metadata": {},
     "output_type": "execute_result"
    }
   ],
   "source": [
    "True and 1"
   ]
  },
  {
   "cell_type": "code",
   "execution_count": 49,
   "metadata": {},
   "outputs": [
    {
     "data": {
      "text/plain": [
       "torch.Size([1])"
      ]
     },
     "execution_count": 49,
     "metadata": {},
     "output_type": "execute_result"
    }
   ],
   "source": [
    "torch.randint(4,8,(1,)).float().size()"
   ]
  },
  {
   "cell_type": "code",
   "execution_count": 46,
   "metadata": {},
   "outputs": [
    {
     "data": {
      "text/plain": [
       "tensor(False)"
      ]
     },
     "execution_count": 46,
     "metadata": {},
     "output_type": "execute_result"
    }
   ],
   "source": [
    "torch.logical_and(torch.tensor(False), torch.tensor(1))"
   ]
  },
  {
   "cell_type": "code",
   "execution_count": 39,
   "metadata": {},
   "outputs": [
    {
     "data": {
      "text/plain": [
       "[0.125, tensor(0.1750)]"
      ]
     },
     "execution_count": 39,
     "metadata": {},
     "output_type": "execute_result"
    }
   ],
   "source": [
    "[1/8, torch.tensor(0.175)]"
   ]
  },
  {
   "cell_type": "code",
   "execution_count": 3,
   "metadata": {},
   "outputs": [],
   "source": [
    "from scipy.special import sinc\n",
    "def _len_guards(M):\n",
    "    \"\"\"Handle small or incorrect window lengths\"\"\"\n",
    "    if int(M) != M or M < 0:\n",
    "        raise ValueError('Window length M must be a non-negative integer')\n",
    "    return M <= 1\n",
    "\n",
    "\n",
    "def _extend(M, sym):\n",
    "    \"\"\"Extend window by 1 sample if needed for DFT-even symmetry\"\"\"\n",
    "    if not sym:\n",
    "        return M + 1, True\n",
    "    else:\n",
    "        return M, False\n",
    "\n",
    "\n",
    "def _truncate(w, needed):\n",
    "    \"\"\"Truncate window by 1 sample if needed for DFT-even symmetry\"\"\"\n",
    "    if needed:\n",
    "        return w[:-1]\n",
    "    else:\n",
    "        return w\n",
    "\n",
    "def general_cosine(M, a, sym=True):\n",
    "    if _len_guards(M):\n",
    "        return np.ones(M)\n",
    "    M, needs_trunc = _extend(M, sym)\n",
    "\n",
    "    fac = np.linspace(-np.pi, np.pi, M)\n",
    "    w = np.zeros(M)\n",
    "    for k in range(len(a)):\n",
    "        w += a[k] * np.cos(k * fac)\n",
    "\n",
    "    return _truncate(w, needs_trunc)\n",
    "\n",
    "def general_hamming(M, alpha, sym=True):\n",
    "    return general_cosine(M, [alpha, 1. - alpha], sym)\n",
    "\n",
    "def hamming(M, sym=True):\n",
    "    return general_hamming(M, 0.54, sym)\n",
    "\n",
    "\n",
    "_win_equiv_raw = {\n",
    "    # ('barthann', 'brthan', 'bth'): (barthann, False),\n",
    "    # ('bartlett', 'bart', 'brt'): (bartlett, False),\n",
    "    # ('blackman', 'black', 'blk'): (blackman, False),\n",
    "    # ('blackmanharris', 'blackharr', 'bkh'): (blackmanharris, False),\n",
    "    # ('bohman', 'bman', 'bmn'): (bohman, False),\n",
    "    # ('boxcar', 'box', 'ones',\n",
    "    #     'rect', 'rectangular'): (boxcar, False),\n",
    "    # ('chebwin', 'cheb'): (chebwin, True),\n",
    "    # ('cosine', 'halfcosine'): (cosine, False),\n",
    "    # ('dpss',): (dpss, True),\n",
    "    # ('exponential', 'poisson'): (exponential, False),\n",
    "    # ('flattop', 'flat', 'flt'): (flattop, False),\n",
    "    # ('gaussian', 'gauss', 'gss'): (gaussian, True),\n",
    "    # ('general cosine', 'general_cosine'): (general_cosine, True),\n",
    "    # ('general gaussian', 'general_gaussian',\n",
    "    #     'general gauss', 'general_gauss', 'ggs'): (general_gaussian, True),\n",
    "    # ('general hamming', 'general_hamming'): (general_hamming, True),\n",
    "    ('hamming', 'hamm', 'ham'): (hamming, False),\n",
    "    # ('hann', 'han'): (hann, False),\n",
    "    # ('kaiser', 'ksr'): (kaiser, True),\n",
    "    # ('kaiser bessel derived', 'kbd'): (kaiser_bessel_derived, True),\n",
    "    # ('lanczos', 'sinc'): (lanczos, False),\n",
    "    # ('nuttall', 'nutl', 'nut'): (nuttall, False),\n",
    "    # ('parzen', 'parz', 'par'): (parzen, False),\n",
    "    # ('taylor', 'taylorwin'): (taylor, False),\n",
    "    # ('triangle', 'triang', 'tri'): (triang, False),\n",
    "    # ('tukey', 'tuk'): (tukey, False),\n",
    "}\n",
    "\n",
    "# Fill dict with all valid window name strings\n",
    "_win_equiv = {}\n",
    "for k, v in _win_equiv_raw.items():\n",
    "    for key in k:\n",
    "        _win_equiv[key] = v[0]\n",
    "\n",
    "# Keep track of which windows need additional parameters\n",
    "_needs_param = set()\n",
    "for k, v in _win_equiv_raw.items():\n",
    "    if v[1]:\n",
    "        _needs_param.update(k)\n",
    "\n",
    "\n",
    "def _get_fs(fs, nyq):\n",
    "    \"\"\"\n",
    "    Utility for replacing the argument 'nyq' (with default 1) with 'fs'.\n",
    "    \"\"\"\n",
    "    if nyq is None and fs is None:\n",
    "        fs = 2\n",
    "    elif nyq is not None:\n",
    "        if fs is not None:\n",
    "            raise ValueError(\"Values cannot be given for both 'nyq' and 'fs'.\")\n",
    "        msg = (\"Keyword argument 'nyq' is deprecated in favour of 'fs' and \"\n",
    "               \"will be removed in SciPy 1.12.0.\")\n",
    "        #warnings.warn(msg, DeprecationWarning, stacklevel=3)\n",
    "        fs = 2*nyq\n",
    "    return fs\n",
    "\n",
    "\n",
    "def get_window(window, Nx, fftbins=True):\n",
    "    \n",
    "    sym = not fftbins\n",
    "    try:\n",
    "        beta = float(window)\n",
    "    except (TypeError, ValueError) as e:\n",
    "        args = ()\n",
    "        if isinstance(window, tuple):\n",
    "            winstr = window[0]\n",
    "            if len(window) > 1:\n",
    "                args = window[1:]\n",
    "        elif isinstance(window, str):\n",
    "            if window in _needs_param:\n",
    "                raise ValueError(\"The '\" + window + \"' window needs one or \"\n",
    "                                 \"more parameters -- pass a tuple.\") from e\n",
    "            else:\n",
    "                winstr = window\n",
    "        else:\n",
    "            raise ValueError(\"%s as window type is not supported.\" %\n",
    "                             str(type(window))) from e\n",
    "\n",
    "        try:\n",
    "            winfunc = _win_equiv[winstr]\n",
    "        except KeyError as e:\n",
    "            raise ValueError(\"Unknown window type.\") from e\n",
    "\n",
    "        #params = (Nx,) + args + (None,)\n",
    "        params = (Nx,) + args\n",
    "        # if winfunc is dpss:\n",
    "        #     params = (Nx,) + args + (None,)   \n",
    "        # else:\n",
    "        #     params = (Nx,) + args\n",
    "    # else:\n",
    "    #     winfunc = kaiser\n",
    "    #     params = (Nx, beta)\n",
    "\n",
    "    return winfunc(*params, sym=sym)\n",
    "\n",
    "def firwin_scipy(numtaps, cutoff, width=None, window='hamming', pass_zero=True,\n",
    "           scale=True, nyq=None, fs=None):\n",
    "    \n",
    "\n",
    "    nyq = 0.5 * _get_fs(fs, nyq)\n",
    "\n",
    "    cutoff = np.atleast_1d(cutoff) / float(nyq)\n",
    "\n",
    "    # Check for invalid input.\n",
    "    if cutoff.ndim > 1:\n",
    "        raise ValueError(\"The cutoff argument must be at most \"\n",
    "                         \"one-dimensional.\")\n",
    "    if cutoff.size == 0:\n",
    "        raise ValueError(\"At least one cutoff frequency must be given.\")\n",
    "    if cutoff.min() <= 0 or cutoff.max() >= 1:\n",
    "        raise ValueError(\"Invalid cutoff frequency: frequencies must be \"\n",
    "                         \"greater than 0 and less than fs/2.\")\n",
    "    if np.any(np.diff(cutoff) <= 0):\n",
    "        raise ValueError(\"Invalid cutoff frequencies: the frequencies \"\n",
    "                         \"must be strictly increasing.\")\n",
    "\n",
    "    # if width is not None:\n",
    "    #     # A width was given.  Find the beta parameter of the Kaiser window\n",
    "    #     # and set `window`.  This overrides the value of `window` passed in.\n",
    "    #     atten = kaiser_atten(numtaps, float(width) / nyq)\n",
    "    #     beta = kaiser_beta(atten)\n",
    "    #     window = ('kaiser', beta)\n",
    "\n",
    "    if isinstance(pass_zero, str):\n",
    "        if pass_zero in ('bandstop', 'lowpass'):\n",
    "            if pass_zero == 'lowpass':\n",
    "                if cutoff.size != 1:\n",
    "                    raise ValueError('cutoff must have one element if '\n",
    "                                     'pass_zero==\"lowpass\", got %s'\n",
    "                                     % (cutoff.shape,))\n",
    "            elif cutoff.size <= 1:\n",
    "                raise ValueError('cutoff must have at least two elements if '\n",
    "                                 'pass_zero==\"bandstop\", got %s'\n",
    "                                 % (cutoff.shape,))\n",
    "            pass_zero = True\n",
    "        elif pass_zero in ('bandpass', 'highpass'):\n",
    "            if pass_zero == 'highpass':\n",
    "                if cutoff.size != 1:\n",
    "                    raise ValueError('cutoff must have one element if '\n",
    "                                     'pass_zero==\"highpass\", got %s'\n",
    "                                     % (cutoff.shape,))\n",
    "            elif cutoff.size <= 1:\n",
    "                raise ValueError('cutoff must have at least two elements if '\n",
    "                                 'pass_zero==\"bandpass\", got %s'\n",
    "                                 % (cutoff.shape,))\n",
    "            pass_zero = False\n",
    "        else:\n",
    "            raise ValueError('pass_zero must be True, False, \"bandpass\", '\n",
    "                             '\"lowpass\", \"highpass\", or \"bandstop\", got '\n",
    "                             '{}'.format(pass_zero))\n",
    "    pass_zero = bool(operator.index(pass_zero))  # ensure bool-like\n",
    "\n",
    "    pass_nyquist = bool(cutoff.size & 1) ^ pass_zero\n",
    "    if pass_nyquist and numtaps % 2 == 0:\n",
    "        raise ValueError(\"A filter with an even number of coefficients must \"\n",
    "                         \"have zero response at the Nyquist frequency.\")\n",
    "\n",
    "    # Insert 0 and/or 1 at the ends of cutoff so that the length of cutoff\n",
    "    # is even, and each pair in cutoff corresponds to passband.\n",
    "    cutoff = np.hstack(([0.0] * pass_zero, cutoff, [1.0] * pass_nyquist))\n",
    "\n",
    "    # `bands` is a 2-D array; each row gives the left and right edges of\n",
    "    # a passband.\n",
    "    bands = cutoff.reshape(-1, 2)\n",
    "\n",
    "    # Build up the coefficients.\n",
    "    alpha = 0.5 * (numtaps - 1)\n",
    "    m = np.arange(0, numtaps) - alpha\n",
    "    h = 0\n",
    "    for left, right in bands:\n",
    "        h += right * sinc(right * m)\n",
    "        h -= left * sinc(left * m)\n",
    "\n",
    "    # Get and apply the window function.\n",
    "    #from .windows import get_window\n",
    "    win = get_window(window, numtaps, fftbins=False)\n",
    "    h *= win\n",
    "\n",
    "    # Now handle scaling if desired.\n",
    "    if scale:\n",
    "        # Get the first passband.\n",
    "        left, right = bands[0]\n",
    "        if left == 0:\n",
    "            scale_frequency = 0.0\n",
    "        elif right == 1:\n",
    "            scale_frequency = 1.0\n",
    "        else:\n",
    "            scale_frequency = 0.5 * (left + right)\n",
    "        c = np.cos(np.pi * m * scale_frequency)\n",
    "        s = np.sum(h * c)\n",
    "        h /= s\n",
    "\n",
    "    return h"
   ]
  },
  {
   "cell_type": "code",
   "execution_count": 25,
   "metadata": {},
   "outputs": [],
   "source": [
    "def _get_fs(fs, nyq):\n",
    "    \"\"\"\n",
    "    Utility for replacing the argument 'nyq' (with default 1) with 'fs'.\n",
    "    \"\"\"\n",
    "    if nyq is None and fs is None:\n",
    "        fs = 2\n",
    "    elif nyq is not None:\n",
    "        # if fs is not None:\n",
    "        #     raise ValueError(\"Values cannot be given for both 'nyq' and 'fs'.\")\n",
    "        # msg = (\"Keyword argument 'nyq' is deprecated in favour of 'fs' and \"\n",
    "        #        \"will be removed in SciPy 1.12.0.\")\n",
    "        # warnings.warn(msg, DeprecationWarning, stacklevel=3)\n",
    "        fs = 2*nyq\n",
    "    return fs\n",
    "\n",
    "\n",
    "def firwin_torch(numtaps, cutoff, width=None, window='hamming', pass_zero=True,\n",
    "           scale=True, nyq=None, fs=None):\n",
    "    \n",
    "\n",
    "    nyq = 0.5 * _get_fs(fs, nyq)\n",
    "\n",
    "    cutoff = torch.atleast_1d(torch.tensor(cutoff)) / float(nyq)\n",
    "\n",
    "    # # Check for invalid input.\n",
    "    # if cutoff.ndim > 1:\n",
    "    #     raise ValueError(\"The cutoff argument must be at most \"\n",
    "    #                      \"one-dimensional.\")\n",
    "    # if cutoff.size == 0:\n",
    "    #     raise ValueError(\"At least one cutoff frequency must be given.\")\n",
    "    # if cutoff.min() <= 0 or cutoff.max() >= 1:\n",
    "    #     raise ValueError(\"Invalid cutoff frequency: frequencies must be \"\n",
    "    #                      \"greater than 0 and less than fs/2.\")\n",
    "    # if np.any(np.diff(cutoff) <= 0):\n",
    "    #     raise ValueError(\"Invalid cutoff frequencies: the frequencies \"\n",
    "    #                      \"must be strictly increasing.\")\n",
    "\n",
    "    # if width is not None:\n",
    "    #     # A width was given.  Find the beta parameter of the Kaiser window\n",
    "    #     # and set `window`.  This overrides the value of `window` passed in.\n",
    "    #     atten = kaiser_atten(numtaps, float(width) / nyq)\n",
    "    #     beta = kaiser_beta(atten)\n",
    "    #     window = ('kaiser', beta)\n",
    "\n",
    "    if isinstance(pass_zero, str):\n",
    "        if pass_zero in ('bandstop', 'lowpass'):\n",
    "            if pass_zero == 'lowpass':\n",
    "                if cutoff.size(0) != 1:\n",
    "                    raise ValueError('cutoff must have one element if '\n",
    "                                     'pass_zero==\"lowpass\", got %s'\n",
    "                                     % (cutoff.size(),))\n",
    "            elif cutoff.size(0) <= 1:\n",
    "                raise ValueError('cutoff must have at least two elements if '\n",
    "                                 'pass_zero==\"bandstop\", got %s'\n",
    "                                 % (cutoff.size(),))\n",
    "            pass_zero = True\n",
    "        elif pass_zero in ('bandpass', 'highpass'):\n",
    "            if pass_zero == 'highpass':\n",
    "                if cutoff.size(0) != 1:\n",
    "                    raise ValueError('cutoff must have one element if '\n",
    "                                     'pass_zero==\"highpass\", got %s'\n",
    "                                     % (cutoff.size(),))\n",
    "            elif cutoff.size(0) <= 1:\n",
    "                raise ValueError('cutoff must have at least two elements if '\n",
    "                                 'pass_zero==\"bandpass\", got %s'\n",
    "                                 % (cutoff.size(),))\n",
    "            pass_zero = False\n",
    "        else:\n",
    "            raise ValueError('pass_zero must be True, False, \"bandpass\", '\n",
    "                             '\"lowpass\", \"highpass\", or \"bandstop\", got '\n",
    "                             '{}'.format(pass_zero))\n",
    "\n",
    "    # pass_zero = bool(operator.index(pass_zero))  # ensure bool-like\n",
    "\n",
    "    # pass_nyquist = bool(cutoff.size & 1) ^ pass_zero\n",
    "    pass_nyquist = torch.bitwise_xor(torch.bitwise_and(cutoff.size(0), torch.tensor(1)).bool(), pass_zero)\n",
    "    #if pass_nyquist and numtaps % 2 == 0:\n",
    "    if torch.logical_and(pass_nyquist, torch.fmod(torch.tensor(numtaps), 2)):\n",
    "        raise ValueError(\"A filter with an even number of coefficients must \"\n",
    "                         \"have zero response at the Nyquist frequency.\")\n",
    "\n",
    "    # Insert 0 and/or 1 at the ends of cutoff so that the length of cutoff\n",
    "    # is even, and each pair in cutoff corresponds to passband.\n",
    "    #cutoff = np.hstack(([0.0] * pass_zero, cutoff, [1.0] * pass_nyquist))\n",
    "    cutoff = torch.hstack((torch.tensor([0.0] * pass_zero), cutoff, torch.tensor([1.0] * pass_nyquist)))\n",
    "\n",
    "    # `bands` is a 2-D array; each row gives the left and right edges of\n",
    "    # a passband.\n",
    "    bands = cutoff.reshape(-1, 2)\n",
    "\n",
    "    # Build up the coefficients.\n",
    "    alpha = 0.5 * (numtaps - 1)\n",
    "    m = torch.arange(0, numtaps) - alpha\n",
    "    h = 0\n",
    "    for left, right in bands:\n",
    "        h += right * torch.sinc(right * m)\n",
    "        h -= left * torch.sinc(left * m)\n",
    "\n",
    "    # Get and apply the window function.\n",
    "    # from .windows import get_window\n",
    "    # win = get_window(window, numtaps, fftbins=False)\n",
    "    if window == 'hamming':\n",
    "        win = torch.hamming_window(numtaps)\n",
    "    else:\n",
    "        raise ValueError(\"Only hamming window allowed\")\n",
    "    h = h * win\n",
    "    #\n",
    "    \n",
    "    # Now handle scaling if desired.\n",
    "    if scale:\n",
    "        # Get the first passband.\n",
    "        left, right = bands[0]\n",
    "        if left == 0:\n",
    "            scale_frequency = 0.0\n",
    "        elif right == 1:\n",
    "            scale_frequency = 1.0\n",
    "        else:\n",
    "            scale_frequency = 0.5 * (left + right)\n",
    "        c = torch.cos(torch.pi * m * scale_frequency)\n",
    "        s = torch.sum(h * c)\n",
    "        h /= s\n",
    "\n",
    "    return h\n"
   ]
  },
  {
   "cell_type": "code",
   "execution_count": 26,
   "metadata": {},
   "outputs": [
    {
     "data": {
      "text/plain": [
       "[<matplotlib.lines.Line2D at 0x7f30d7d04ee0>]"
      ]
     },
     "execution_count": 26,
     "metadata": {},
     "output_type": "execute_result"
    },
    {
     "data": {
      "image/png": "[encoded data removed]",
      "text/plain": [
       "<Figure size 640x480 with 1 Axes>"
      ]
     },
     "metadata": {},
     "output_type": "display_data"
    }
   ],
   "source": [
    "fl = 30\n",
    "fh = 800\n",
    "w = [fl / (fs / 2), fh / (fs / 2)]\n",
    "pp = firwin_torch(1000+1 , w, pass_zero='bandpass', fs=fs)\n",
    "plt.plot(pp)"
   ]
  },
  {
   "cell_type": "code",
   "execution_count": 20,
   "metadata": {},
   "outputs": [
    {
     "data": {
      "text/plain": [
       "[<matplotlib.lines.Line2D at 0x7f30d7fded10>]"
      ]
     },
     "execution_count": 20,
     "metadata": {},
     "output_type": "execute_result"
    },
    {
     "data": {
      "image/png": "[encoded data removed]",
      "text/plain": [
       "<Figure size 640x480 with 1 Axes>"
      ]
     },
     "metadata": {},
     "output_type": "display_data"
    }
   ],
   "source": [
    "fl = 30\n",
    "fh = 800\n",
    "w = [fl / (fs / 2), fh / (fs / 2)]\n",
    "ps = signal.firwin(1000 + 1, w, pass_zero='bandpass', fs=fs)\n",
    "plt.plot(ps)"
   ]
  },
  {
   "cell_type": "code",
   "execution_count": 22,
   "metadata": {},
   "outputs": [
    {
     "data": {
      "text/plain": [
       "[<matplotlib.lines.Line2D at 0x7f30d7f9ff70>]"
      ]
     },
     "execution_count": 22,
     "metadata": {},
     "output_type": "execute_result"
    },
    {
     "data": {
      "image/png": "[encoded data removed]",
      "text/plain": [
       "<Figure size 640x480 with 1 Axes>"
      ]
     },
     "metadata": {},
     "output_type": "display_data"
    }
   ],
   "source": [
    "hp = firwin_scipy(1000 + 1, w , pass_zero='bandpass', fs=fs)\n",
    "plt.plot(hp)"
   ]
  },
  {
   "cell_type": "code",
   "execution_count": 11,
   "metadata": {},
   "outputs": [
    {
     "data": {
      "text/plain": [
       "tensor([0.0800, 0.2147, 0.5400, 0.8653, 1.0000, 0.8653, 0.5400, 0.2147])"
      ]
     },
     "execution_count": 11,
     "metadata": {},
     "output_type": "execute_result"
    }
   ],
   "source": [
    "torch.hamming_window()"
   ]
  },
  {
   "cell_type": "code",
   "execution_count": 98,
   "metadata": {},
   "outputs": [
    {
     "data": {
      "text/plain": [
       "[<matplotlib.lines.Line2D at 0x7f8820f830d0>]"
      ]
     },
     "execution_count": 98,
     "metadata": {},
     "output_type": "execute_result"
    },
    {
     "data": {
      "image/png": "[encoded data removed]",
      "text/plain": [
       "<Figure size 640x480 with 1 Axes>"
      ]
     },
     "metadata": {},
     "output_type": "display_data"
    }
   ],
   "source": [
    "plt.plot(torch.hamming_window(70))"
   ]
  },
  {
   "cell_type": "code",
   "execution_count": 13,
   "metadata": {},
   "outputs": [
    {
     "data": {
      "text/plain": [
       "array([0.08      , 0.25319469, 0.64235963, 0.95444568, 0.95444568,\n",
       "       0.64235963, 0.25319469, 0.08      ])"
      ]
     },
     "execution_count": 13,
     "metadata": {},
     "output_type": "execute_result"
    }
   ],
   "source": [
    "hamming(8)"
   ]
  },
  {
   "cell_type": "code",
   "execution_count": 100,
   "metadata": {},
   "outputs": [
    {
     "data": {
      "text/plain": [
       "[<matplotlib.lines.Line2D at 0x7f8820e8dde0>]"
      ]
     },
     "execution_count": 100,
     "metadata": {},
     "output_type": "execute_result"
    },
    {
     "data": {
      "image/png": "[encoded data removed]",
      "text/plain": [
       "<Figure size 640x480 with 1 Axes>"
      ]
     },
     "metadata": {},
     "output_type": "display_data"
    }
   ],
   "source": [
    "plt.plot(hamming(70))"
   ]
  },
  {
   "cell_type": "code",
   "execution_count": 2,
   "metadata": {},
   "outputs": [
    {
     "data": {
      "text/plain": [
       "array([0.08      , 0.25319469, 0.64235963, 0.95444568, 0.95444568,\n",
       "       0.64235963, 0.25319469])"
      ]
     },
     "execution_count": 2,
     "metadata": {},
     "output_type": "execute_result"
    }
   ],
   "source": [
    "signal.get_window('hamming', 7)"
   ]
  }
 ],
 "metadata": {
  "kernelspec": {
   "display_name": "mpa",
   "language": "python",
   "name": "python3"
  },
  "language_info": {
   "codemirror_mode": {
    "name": "ipython",
    "version": 3
   },
   "file_extension": ".py",
   "mimetype": "text/x-python",
   "name": "python",
   "nbconvert_exporter": "python",
   "pygments_lexer": "ipython3",
   "version": "3.10.11"
  }
 },
 "nbformat": 4,
 "nbformat_minor": 2
}
